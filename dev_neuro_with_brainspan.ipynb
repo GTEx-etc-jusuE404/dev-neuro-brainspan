{
  "nbformat": 4,
  "nbformat_minor": 0,
  "metadata": {
    "colab": {
      "name": "dev_neuro_with_brainspan.ipynb",
      "version": "0.3.2",
      "provenance": [],
      "include_colab_link": true
    },
    "kernelspec": {
      "name": "python3",
      "display_name": "Python 3"
    }
  },
  "cells": [
    {
      "cell_type": "markdown",
      "metadata": {
        "id": "view-in-github",
        "colab_type": "text"
      },
      "source": [
        "<a href=\"https://colab.research.google.com/github/dkeitley/dev-neuro-brainspan/blob/master/dev_neuro_with_brainspan.ipynb\" target=\"_parent\"><img src=\"https://colab.research.google.com/assets/colab-badge.svg\" alt=\"Open In Colab\"/></a>"
      ]
    },
    {
      "metadata": {
        "id": "_VX9Wlt1bGfB",
        "colab_type": "text"
      },
      "cell_type": "markdown",
      "source": [
        "# Develpmental Neurobiology with BrainSpan"
      ]
    },
    {
      "metadata": {
        "id": "XYOmqXg2bOIG",
        "colab_type": "code",
        "colab": {}
      },
      "cell_type": "code",
      "source": [
        ""
      ],
      "execution_count": 0,
      "outputs": []
    }
  ]
}